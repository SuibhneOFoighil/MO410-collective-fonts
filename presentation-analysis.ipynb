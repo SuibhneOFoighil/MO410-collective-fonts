{
 "cells": [
  {
   "cell_type": "code",
   "execution_count": 1,
   "id": "848c99c6-90e6-4eb5-9a0b-552e58172a25",
   "metadata": {},
   "outputs": [
    {
     "data": {
      "text/html": [
       "<div>\n",
       "<style scoped>\n",
       "    .dataframe tbody tr th:only-of-type {\n",
       "        vertical-align: middle;\n",
       "    }\n",
       "\n",
       "    .dataframe tbody tr th {\n",
       "        vertical-align: top;\n",
       "    }\n",
       "\n",
       "    .dataframe thead th {\n",
       "        text-align: right;\n",
       "    }\n",
       "</style>\n",
       "<table border=\"1\" class=\"dataframe\">\n",
       "  <thead>\n",
       "    <tr style=\"text-align: right;\">\n",
       "      <th></th>\n",
       "      <th>Stem</th>\n",
       "      <th>Tail</th>\n",
       "      <th>Shoulder</th>\n",
       "      <th>up Down Sym</th>\n",
       "      <th>Right Left</th>\n",
       "      <th>Cross  Bar</th>\n",
       "      <th>arm</th>\n",
       "      <th>Bowl</th>\n",
       "    </tr>\n",
       "  </thead>\n",
       "  <tbody>\n",
       "    <tr>\n",
       "      <th>A</th>\n",
       "      <td>0</td>\n",
       "      <td>0</td>\n",
       "      <td>0</td>\n",
       "      <td>0</td>\n",
       "      <td>1</td>\n",
       "      <td>1</td>\n",
       "      <td>0</td>\n",
       "      <td>0</td>\n",
       "    </tr>\n",
       "    <tr>\n",
       "      <th>B</th>\n",
       "      <td>0</td>\n",
       "      <td>0</td>\n",
       "      <td>1</td>\n",
       "      <td>1</td>\n",
       "      <td>1</td>\n",
       "      <td>1</td>\n",
       "      <td>0</td>\n",
       "      <td>1</td>\n",
       "    </tr>\n",
       "    <tr>\n",
       "      <th>C</th>\n",
       "      <td>0</td>\n",
       "      <td>0</td>\n",
       "      <td>0</td>\n",
       "      <td>1</td>\n",
       "      <td>0</td>\n",
       "      <td>0</td>\n",
       "      <td>0</td>\n",
       "      <td>0</td>\n",
       "    </tr>\n",
       "    <tr>\n",
       "      <th>D</th>\n",
       "      <td>0</td>\n",
       "      <td>0</td>\n",
       "      <td>0</td>\n",
       "      <td>1</td>\n",
       "      <td>0</td>\n",
       "      <td>0</td>\n",
       "      <td>0</td>\n",
       "      <td>1</td>\n",
       "    </tr>\n",
       "    <tr>\n",
       "      <th>E</th>\n",
       "      <td>1</td>\n",
       "      <td>0</td>\n",
       "      <td>0</td>\n",
       "      <td>1</td>\n",
       "      <td>0</td>\n",
       "      <td>0</td>\n",
       "      <td>0</td>\n",
       "      <td>0</td>\n",
       "    </tr>\n",
       "    <tr>\n",
       "      <th>...</th>\n",
       "      <td>...</td>\n",
       "      <td>...</td>\n",
       "      <td>...</td>\n",
       "      <td>...</td>\n",
       "      <td>...</td>\n",
       "      <td>...</td>\n",
       "      <td>...</td>\n",
       "      <td>...</td>\n",
       "    </tr>\n",
       "    <tr>\n",
       "      <th>5</th>\n",
       "      <td>1</td>\n",
       "      <td>0</td>\n",
       "      <td>1</td>\n",
       "      <td>0</td>\n",
       "      <td>0</td>\n",
       "      <td>0</td>\n",
       "      <td>0</td>\n",
       "      <td>0</td>\n",
       "    </tr>\n",
       "    <tr>\n",
       "      <th>6</th>\n",
       "      <td>1</td>\n",
       "      <td>0</td>\n",
       "      <td>1</td>\n",
       "      <td>0</td>\n",
       "      <td>0</td>\n",
       "      <td>0</td>\n",
       "      <td>0</td>\n",
       "      <td>1</td>\n",
       "    </tr>\n",
       "    <tr>\n",
       "      <th>7</th>\n",
       "      <td>1</td>\n",
       "      <td>0</td>\n",
       "      <td>0</td>\n",
       "      <td>0</td>\n",
       "      <td>0</td>\n",
       "      <td>0</td>\n",
       "      <td>1</td>\n",
       "      <td>0</td>\n",
       "    </tr>\n",
       "    <tr>\n",
       "      <th>8</th>\n",
       "      <td>0</td>\n",
       "      <td>0</td>\n",
       "      <td>0</td>\n",
       "      <td>1</td>\n",
       "      <td>0</td>\n",
       "      <td>0</td>\n",
       "      <td>1</td>\n",
       "      <td>1</td>\n",
       "    </tr>\n",
       "    <tr>\n",
       "      <th>9</th>\n",
       "      <td>0</td>\n",
       "      <td>1</td>\n",
       "      <td>0</td>\n",
       "      <td>0</td>\n",
       "      <td>0</td>\n",
       "      <td>0</td>\n",
       "      <td>1</td>\n",
       "      <td>1</td>\n",
       "    </tr>\n",
       "  </tbody>\n",
       "</table>\n",
       "<p>61 rows × 8 columns</p>\n",
       "</div>"
      ],
      "text/plain": [
       "    Stem  Tail  Shoulder  up Down Sym  Right Left  Cross  Bar  arm  Bowl \n",
       "A      0     0         0            0           1           1    0      0\n",
       "B      0     0         1            1           1           1    0      1\n",
       "C      0     0         0            1           0           0    0      0\n",
       "D      0     0         0            1           0           0    0      1\n",
       "E      1     0         0            1           0           0    0      0\n",
       "..   ...   ...       ...          ...         ...         ...  ...    ...\n",
       "5      1     0         1            0           0           0    0      0\n",
       "6      1     0         1            0           0           0    0      1\n",
       "7      1     0         0            0           0           0    1      0\n",
       "8      0     0         0            1           0           0    1      1\n",
       "9      0     1         0            0           0           0    1      1\n",
       "\n",
       "[61 rows x 8 columns]"
      ]
     },
     "execution_count": 1,
     "metadata": {},
     "output_type": "execute_result"
    }
   ],
   "source": [
    "import pandas as pd\n",
    "import numpy as np\n",
    "import seaborn as sns\n",
    "import matplotlib.pyplot as plt\n",
    "\n",
    "plt.rcParams['figure.figsize'] = [12.8, 9.6]\n",
    "\n",
    "df = pd.read_csv('Letters.csv', index_col=0)\n",
    "df"
   ]
  },
  {
   "cell_type": "markdown",
   "id": "5dd4c0d9-0451-43ea-8ac7-8285009c75eb",
   "metadata": {},
   "source": [
    "Slide 2: Ability: Information from each filter (does it divide the 61 figures in half 30-31 (most informative) or does it split then 8-53 (not informative)"
   ]
  },
  {
   "cell_type": "code",
   "execution_count": 2,
   "id": "ab7cb3d5-e59f-42e6-9294-f65ff5fffa92",
   "metadata": {},
   "outputs": [
    {
     "data": {
      "text/html": [
       "<div>\n",
       "<style scoped>\n",
       "    .dataframe tbody tr th:only-of-type {\n",
       "        vertical-align: middle;\n",
       "    }\n",
       "\n",
       "    .dataframe tbody tr th {\n",
       "        vertical-align: top;\n",
       "    }\n",
       "\n",
       "    .dataframe thead th {\n",
       "        text-align: right;\n",
       "    }\n",
       "</style>\n",
       "<table border=\"1\" class=\"dataframe\">\n",
       "  <thead>\n",
       "    <tr style=\"text-align: right;\">\n",
       "      <th></th>\n",
       "      <th>1s</th>\n",
       "      <th>0s</th>\n",
       "      <th>% 1s</th>\n",
       "    </tr>\n",
       "  </thead>\n",
       "  <tbody>\n",
       "    <tr>\n",
       "      <th>Stem</th>\n",
       "      <td>26.0</td>\n",
       "      <td>35.0</td>\n",
       "      <td>0.426230</td>\n",
       "    </tr>\n",
       "    <tr>\n",
       "      <th>Tail</th>\n",
       "      <td>9.0</td>\n",
       "      <td>52.0</td>\n",
       "      <td>0.147541</td>\n",
       "    </tr>\n",
       "    <tr>\n",
       "      <th>Shoulder</th>\n",
       "      <td>15.0</td>\n",
       "      <td>46.0</td>\n",
       "      <td>0.245902</td>\n",
       "    </tr>\n",
       "    <tr>\n",
       "      <th>up Down Sym</th>\n",
       "      <td>18.0</td>\n",
       "      <td>43.0</td>\n",
       "      <td>0.295082</td>\n",
       "    </tr>\n",
       "    <tr>\n",
       "      <th>Right Left</th>\n",
       "      <td>19.0</td>\n",
       "      <td>42.0</td>\n",
       "      <td>0.311475</td>\n",
       "    </tr>\n",
       "    <tr>\n",
       "      <th>Cross  Bar</th>\n",
       "      <td>9.0</td>\n",
       "      <td>52.0</td>\n",
       "      <td>0.147541</td>\n",
       "    </tr>\n",
       "    <tr>\n",
       "      <th>arm</th>\n",
       "      <td>12.0</td>\n",
       "      <td>49.0</td>\n",
       "      <td>0.196721</td>\n",
       "    </tr>\n",
       "    <tr>\n",
       "      <th>Bowl</th>\n",
       "      <td>18.0</td>\n",
       "      <td>43.0</td>\n",
       "      <td>0.295082</td>\n",
       "    </tr>\n",
       "  </tbody>\n",
       "</table>\n",
       "</div>"
      ],
      "text/plain": [
       "               1s    0s      % 1s\n",
       "Stem         26.0  35.0  0.426230\n",
       "Tail          9.0  52.0  0.147541\n",
       "Shoulder     15.0  46.0  0.245902\n",
       "up Down Sym  18.0  43.0  0.295082\n",
       "Right Left   19.0  42.0  0.311475\n",
       "Cross  Bar    9.0  52.0  0.147541\n",
       "arm          12.0  49.0  0.196721\n",
       "Bowl         18.0  43.0  0.295082"
      ]
     },
     "execution_count": 2,
     "metadata": {},
     "output_type": "execute_result"
    }
   ],
   "source": [
    "ones = df.sum()\n",
    "zeros = df.count() - ones\n",
    "proportion_ones = ones / 61\n",
    "filterDF = pd.DataFrame([ones, zeros, proportion_ones], index=['1s', '0s', '% 1s']).transpose()\n",
    "filterDF.to_excel('Feature Abilities.xlsx')\n",
    "filterDF"
   ]
  },
  {
   "cell_type": "code",
   "execution_count": 3,
   "id": "51d02c91-5d57-42b9-9237-185882f7002a",
   "metadata": {},
   "outputs": [
    {
     "data": {
      "image/png": "[encoded data removed]",
      "text/plain": [
       "<Figure size 921.6x691.2 with 1 Axes>"
      ]
     },
     "metadata": {
      "needs_background": "light"
     },
     "output_type": "display_data"
    }
   ],
   "source": [
    "# Create the stacked bar chart\n",
    "filterDF[['0s', '1s']].plot(kind='bar', stacked=True, color=['blue', 'orange'])\n",
    "\n",
    "# Add a title to the chart\n",
    "plt.title('Splitting Ability of Each Feature')\n",
    "\n",
    "# Show the chart\n",
    "plt.show()"
   ]
  },
  {
   "cell_type": "code",
   "execution_count": 4,
   "id": "887aa1d0-32e7-4682-b7dd-91df78c13c6b",
   "metadata": {},
   "outputs": [
    {
     "data": {
      "text/html": [
       "<div>\n",
       "<style scoped>\n",
       "    .dataframe tbody tr th:only-of-type {\n",
       "        vertical-align: middle;\n",
       "    }\n",
       "\n",
       "    .dataframe tbody tr th {\n",
       "        vertical-align: top;\n",
       "    }\n",
       "\n",
       "    .dataframe thead th {\n",
       "        text-align: right;\n",
       "    }\n",
       "</style>\n",
       "<table border=\"1\" class=\"dataframe\">\n",
       "  <thead>\n",
       "    <tr style=\"text-align: right;\">\n",
       "      <th></th>\n",
       "      <th>0 -&gt; 0</th>\n",
       "      <th>1 -&gt; 0</th>\n",
       "      <th>0 -&gt; 1</th>\n",
       "      <th>1 -&gt; 1</th>\n",
       "    </tr>\n",
       "  </thead>\n",
       "  <tbody>\n",
       "    <tr>\n",
       "      <th>Tail</th>\n",
       "      <td>29</td>\n",
       "      <td>23</td>\n",
       "      <td>6</td>\n",
       "      <td>3</td>\n",
       "    </tr>\n",
       "    <tr>\n",
       "      <th>Shoulder</th>\n",
       "      <td>28</td>\n",
       "      <td>18</td>\n",
       "      <td>7</td>\n",
       "      <td>8</td>\n",
       "    </tr>\n",
       "    <tr>\n",
       "      <th>up Down Sym</th>\n",
       "      <td>22</td>\n",
       "      <td>21</td>\n",
       "      <td>13</td>\n",
       "      <td>5</td>\n",
       "    </tr>\n",
       "    <tr>\n",
       "      <th>Right Left</th>\n",
       "      <td>21</td>\n",
       "      <td>21</td>\n",
       "      <td>14</td>\n",
       "      <td>5</td>\n",
       "    </tr>\n",
       "    <tr>\n",
       "      <th>Cross  Bar</th>\n",
       "      <td>31</td>\n",
       "      <td>21</td>\n",
       "      <td>4</td>\n",
       "      <td>5</td>\n",
       "    </tr>\n",
       "    <tr>\n",
       "      <th>arm</th>\n",
       "      <td>30</td>\n",
       "      <td>19</td>\n",
       "      <td>5</td>\n",
       "      <td>7</td>\n",
       "    </tr>\n",
       "    <tr>\n",
       "      <th>Bowl</th>\n",
       "      <td>22</td>\n",
       "      <td>21</td>\n",
       "      <td>13</td>\n",
       "      <td>5</td>\n",
       "    </tr>\n",
       "  </tbody>\n",
       "</table>\n",
       "</div>"
      ],
      "text/plain": [
       "             0 -> 0  1 -> 0  0 -> 1  1 -> 1\n",
       "Tail             29      23       6       3\n",
       "Shoulder         28      18       7       8\n",
       "up Down Sym      22      21      13       5\n",
       "Right Left       21      21      14       5\n",
       "Cross  Bar       31      21       4       5\n",
       "arm              30      19       5       7\n",
       "Bowl             22      21      13       5"
      ]
     },
     "execution_count": 4,
     "metadata": {},
     "output_type": "execute_result"
    }
   ],
   "source": [
    "ones = df.groupby('Stem').sum()\n",
    "zeros = df.groupby('Stem').count() - ones\n",
    "filterDFpostSplit = pd.concat([zeros, ones])\n",
    "filterDFpostSplit.reset_index(inplace=True, drop=True)\n",
    "filterDFpostSplit = filterDFpostSplit.transpose()\n",
    "mapping={ filterDFpostSplit.columns[i]: new_name for i, new_name in enumerate(['0 -> 0', '0 -> 1', '1 -> 0', '1 -> 1']) }\n",
    "filterDFpostSplit.rename(columns=mapping, inplace=True)\n",
    "filterDFpostSplit"
   ]
  },
  {
   "cell_type": "code",
   "execution_count": 5,
   "id": "6e221fe9-0dc7-46cb-ad41-8dcefece448e",
   "metadata": {},
   "outputs": [
    {
     "data": {
      "image/png": "[encoded data removed]",
      "text/plain": [
       "<Figure size 921.6x691.2 with 1 Axes>"
      ]
     },
     "metadata": {
      "needs_background": "light"
     },
     "output_type": "display_data"
    }
   ],
   "source": [
    "filterDFpostSplit.plot(kind='bar', stacked=True, color=['blue', 'darkblue', 'orange', 'darkorange'])\n",
    "plt.title('Splitting Ability of Each Feature - After Stem Split')\n",
    "plt.show()"
   ]
  },
  {
   "cell_type": "markdown",
   "id": "a5fc67d9-8b4f-4e13-b2c0-77fefceb41a5",
   "metadata": {},
   "source": [
    "Slide 3: Diversity: Hamming distance between each filter pair - how often does each pair agree.\n",
    "for fun -- maybe Show two closest (least diverse) and two furthest apart (most diverse)"
   ]
  },
  {
   "cell_type": "code",
   "execution_count": 6,
   "id": "45a147d6-9e22-4c15-9e54-835f8bee32fa",
   "metadata": {},
   "outputs": [
    {
     "data": {
      "text/plain": [
       "array([[ 0., 29., 25., 34., 35., 25., 24., 34.],\n",
       "       [29.,  0., 20., 25., 28., 18., 17., 15.],\n",
       "       [25., 20.,  0., 31., 30., 16., 21., 23.],\n",
       "       [34., 25., 31.,  0., 21., 23., 22., 24.],\n",
       "       [35., 28., 30., 21.,  0., 20., 29., 31.],\n",
       "       [25., 18., 16., 23., 20.,  0., 17., 25.],\n",
       "       [24., 17., 21., 22., 29., 17.,  0., 26.],\n",
       "       [34., 15., 23., 24., 31., 25., 26.,  0.]])"
      ]
     },
     "execution_count": 6,
     "metadata": {},
     "output_type": "execute_result"
    }
   ],
   "source": [
    "# Get the number of columns in the data frame\n",
    "num_cols = df.shape[1]\n",
    "\n",
    "# Initialize the distance matrix\n",
    "distance_matrix = np.zeros((num_cols, num_cols))\n",
    "\n",
    "# Loop through each pair of columns and compute the binary distance\n",
    "for i in range(num_cols):\n",
    "    for j in range(i + 1, num_cols):\n",
    "        distance = np.sum(df.iloc[:, i] != df.iloc[:, j])\n",
    "        distance_matrix[i, j] = distance\n",
    "        distance_matrix[j, i] = distance\n",
    "\n",
    "# Print the distance matrix\n",
    "distance_matrix"
   ]
  },
  {
   "cell_type": "code",
   "execution_count": 7,
   "id": "d8e6bd97-bea6-4449-9ee0-1a4904b5508c",
   "metadata": {},
   "outputs": [
    {
     "data": {
      "image/png": "[encoded data removed]",
      "text/plain": [
       "<Figure size 921.6x691.2 with 1 Axes>"
      ]
     },
     "metadata": {
      "needs_background": "light"
     },
     "output_type": "display_data"
    }
   ],
   "source": [
    "triangular_indices = np.triu_indices(distance_matrix.shape[0], k=1)\n",
    "flat_upper_triangular = distance_matrix[triangular_indices]\n",
    "ax = sns.histplot(flat_upper_triangular)\n",
    "ax.set(title='Hamming Distance between Filters')\n",
    "plt.show()"
   ]
  },
  {
   "cell_type": "code",
   "execution_count": 8,
   "id": "8a031fae-0358-4bec-9ee3-804bcdf65ab6",
   "metadata": {
    "tags": []
   },
   "outputs": [
    {
     "name": "stdout",
     "output_type": "stream",
     "text": [
      "Lowest Distance: 15.0\n",
      "Closest Pair: (Tail, Bowl )\n",
      "\n",
      "Furthest Distance: 35.0\n",
      "Furthest Pair: (Stem, Right Left)\n"
     ]
    }
   ],
   "source": [
    "#Get the closest features\n",
    "np.fill_diagonal(distance_matrix, np.inf)\n",
    "print('Lowest Distance:', np.min(distance_matrix))\n",
    "min_index = np.unravel_index(np.argmin(distance_matrix), distance_matrix.shape)\n",
    "a, b = min_index\n",
    "print(f'Closest Pair: ({df.columns[a]}, {df.columns[b]})') \n",
    "\n",
    "print('')\n",
    "\n",
    "#Get the furthest features\n",
    "np.fill_diagonal(distance_matrix, -1)\n",
    "print('Furthest Distance:', np.max(distance_matrix))\n",
    "max_index = np.unravel_index(np.argmax(distance_matrix), distance_matrix.shape)\n",
    "c, d = max_index\n",
    "print(f'Furthest Pair: ({df.columns[c]}, {df.columns[d]})') "
   ]
  },
  {
   "cell_type": "code",
   "execution_count": 9,
   "id": "ed261370-9e71-45a7-b9b4-ae794cc372eb",
   "metadata": {},
   "outputs": [
    {
     "name": "stderr",
     "output_type": "stream",
     "text": [
      "/Users/suibhneofoighil/opt/anaconda3/lib/python3.9/site-packages/sklearn/manifold/_mds.py:299: FutureWarning: The default value of `normalized_stress` will change to `'auto'` in version 1.4. To suppress this warning, manually set the value of `normalized_stress`.\n",
      "  warnings.warn(\n"
     ]
    },
    {
     "data": {
      "image/png": "[encoded data removed]",
      "text/plain": [
       "<Figure size 921.6x691.2 with 1 Axes>"
      ]
     },
     "metadata": {
      "needs_background": "light"
     },
     "output_type": "display_data"
    }
   ],
   "source": [
    "from sklearn.manifold import MDS\n",
    "\n",
    "def visualize_distance_matrix(distance_matrix, labels=None):\n",
    "    mds = MDS(n_components=2, dissimilarity='precomputed')\n",
    "    mds_coordinates = mds.fit_transform(distance_matrix)\n",
    "    x = mds_coordinates[:, 0]\n",
    "    y = mds_coordinates[:, 1]\n",
    "    plt.scatter(x, y)\n",
    "    if labels is not None:\n",
    "        for i, label in enumerate(labels):\n",
    "            plt.annotate(label, (x[i], y[i]), fontsize=15)\n",
    "    plt.show()\n",
    "    \n",
    "visualize_distance_matrix(distance_matrix, df.columns)"
   ]
  },
  {
   "cell_type": "markdown",
   "id": "c70536a8-9518-4ad1-903b-6641bae220df",
   "metadata": {},
   "source": [
    "Slide 5: Assemblage: Take a pair - and then look at those that it distinguishes?"
   ]
  }
 ],
 "metadata": {
  "kernelspec": {
   "display_name": "Python 3",
   "language": "python",
   "name": "python3"
  },
  "language_info": {
   "codemirror_mode": {
    "name": "ipython",
    "version": 3
   },
   "file_extension": ".py",
   "mimetype": "text/x-python",
   "name": "python",
   "nbconvert_exporter": "python",
   "pygments_lexer": "ipython3",
   "version": "3.9.7"
  }
 },
 "nbformat": 4,
 "nbformat_minor": 5
}
