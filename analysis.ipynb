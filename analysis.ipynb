{
 "cells": [
  {
   "cell_type": "code",
   "execution_count": 1,
   "id": "4451f60d-5146-4e22-9e4c-57fbf13ba4c2",
   "metadata": {},
   "outputs": [
    {
     "data": {
      "text/html": [
       "<div>\n",
       "<style scoped>\n",
       "    .dataframe tbody tr th:only-of-type {\n",
       "        vertical-align: middle;\n",
       "    }\n",
       "\n",
       "    .dataframe tbody tr th {\n",
       "        vertical-align: top;\n",
       "    }\n",
       "\n",
       "    .dataframe thead th {\n",
       "        text-align: right;\n",
       "    }\n",
       "</style>\n",
       "<table border=\"1\" class=\"dataframe\">\n",
       "  <thead>\n",
       "    <tr style=\"text-align: right;\">\n",
       "      <th></th>\n",
       "      <th>Stem</th>\n",
       "      <th>Tail</th>\n",
       "      <th>Shoulder</th>\n",
       "      <th>up Down Sym</th>\n",
       "      <th>Right Left</th>\n",
       "      <th>Cross  Bar</th>\n",
       "      <th>arm</th>\n",
       "      <th>Bowl</th>\n",
       "    </tr>\n",
       "  </thead>\n",
       "  <tbody>\n",
       "    <tr>\n",
       "      <th>A</th>\n",
       "      <td>0</td>\n",
       "      <td>0</td>\n",
       "      <td>0</td>\n",
       "      <td>0</td>\n",
       "      <td>1</td>\n",
       "      <td>1</td>\n",
       "      <td>0</td>\n",
       "      <td>0</td>\n",
       "    </tr>\n",
       "    <tr>\n",
       "      <th>B</th>\n",
       "      <td>0</td>\n",
       "      <td>0</td>\n",
       "      <td>1</td>\n",
       "      <td>1</td>\n",
       "      <td>1</td>\n",
       "      <td>1</td>\n",
       "      <td>0</td>\n",
       "      <td>1</td>\n",
       "    </tr>\n",
       "    <tr>\n",
       "      <th>C</th>\n",
       "      <td>0</td>\n",
       "      <td>0</td>\n",
       "      <td>0</td>\n",
       "      <td>1</td>\n",
       "      <td>0</td>\n",
       "      <td>0</td>\n",
       "      <td>0</td>\n",
       "      <td>0</td>\n",
       "    </tr>\n",
       "    <tr>\n",
       "      <th>D</th>\n",
       "      <td>0</td>\n",
       "      <td>0</td>\n",
       "      <td>0</td>\n",
       "      <td>1</td>\n",
       "      <td>0</td>\n",
       "      <td>0</td>\n",
       "      <td>0</td>\n",
       "      <td>1</td>\n",
       "    </tr>\n",
       "    <tr>\n",
       "      <th>E</th>\n",
       "      <td>1</td>\n",
       "      <td>0</td>\n",
       "      <td>0</td>\n",
       "      <td>1</td>\n",
       "      <td>0</td>\n",
       "      <td>0</td>\n",
       "      <td>0</td>\n",
       "      <td>0</td>\n",
       "    </tr>\n",
       "    <tr>\n",
       "      <th>...</th>\n",
       "      <td>...</td>\n",
       "      <td>...</td>\n",
       "      <td>...</td>\n",
       "      <td>...</td>\n",
       "      <td>...</td>\n",
       "      <td>...</td>\n",
       "      <td>...</td>\n",
       "      <td>...</td>\n",
       "    </tr>\n",
       "    <tr>\n",
       "      <th>5</th>\n",
       "      <td>1</td>\n",
       "      <td>0</td>\n",
       "      <td>1</td>\n",
       "      <td>0</td>\n",
       "      <td>0</td>\n",
       "      <td>0</td>\n",
       "      <td>0</td>\n",
       "      <td>0</td>\n",
       "    </tr>\n",
       "    <tr>\n",
       "      <th>6</th>\n",
       "      <td>1</td>\n",
       "      <td>0</td>\n",
       "      <td>1</td>\n",
       "      <td>0</td>\n",
       "      <td>0</td>\n",
       "      <td>0</td>\n",
       "      <td>0</td>\n",
       "      <td>1</td>\n",
       "    </tr>\n",
       "    <tr>\n",
       "      <th>7</th>\n",
       "      <td>1</td>\n",
       "      <td>0</td>\n",
       "      <td>0</td>\n",
       "      <td>0</td>\n",
       "      <td>0</td>\n",
       "      <td>0</td>\n",
       "      <td>1</td>\n",
       "      <td>0</td>\n",
       "    </tr>\n",
       "    <tr>\n",
       "      <th>8</th>\n",
       "      <td>0</td>\n",
       "      <td>0</td>\n",
       "      <td>0</td>\n",
       "      <td>1</td>\n",
       "      <td>0</td>\n",
       "      <td>0</td>\n",
       "      <td>1</td>\n",
       "      <td>1</td>\n",
       "    </tr>\n",
       "    <tr>\n",
       "      <th>9</th>\n",
       "      <td>0</td>\n",
       "      <td>1</td>\n",
       "      <td>0</td>\n",
       "      <td>0</td>\n",
       "      <td>0</td>\n",
       "      <td>0</td>\n",
       "      <td>1</td>\n",
       "      <td>1</td>\n",
       "    </tr>\n",
       "  </tbody>\n",
       "</table>\n",
       "<p>61 rows × 8 columns</p>\n",
       "</div>"
      ],
      "text/plain": [
       "    Stem  Tail  Shoulder  up Down Sym  Right Left  Cross  Bar  arm  Bowl \n",
       "A      0     0         0            0           1           1    0      0\n",
       "B      0     0         1            1           1           1    0      1\n",
       "C      0     0         0            1           0           0    0      0\n",
       "D      0     0         0            1           0           0    0      1\n",
       "E      1     0         0            1           0           0    0      0\n",
       "..   ...   ...       ...          ...         ...         ...  ...    ...\n",
       "5      1     0         1            0           0           0    0      0\n",
       "6      1     0         1            0           0           0    0      1\n",
       "7      1     0         0            0           0           0    1      0\n",
       "8      0     0         0            1           0           0    1      1\n",
       "9      0     1         0            0           0           0    1      1\n",
       "\n",
       "[61 rows x 8 columns]"
      ]
     },
     "execution_count": 1,
     "metadata": {},
     "output_type": "execute_result"
    }
   ],
   "source": [
    "import pandas as pd\n",
    "import numpy as np\n",
    "import seaborn as sns\n",
    "import matplotlib.pyplot as plt\n",
    "\n",
    "plt.rcParams['figure.figsize'] = [12.8, 9.6]\n",
    "\n",
    "df = pd.read_csv('Letters.csv', index_col=0)\n",
    "df"
   ]
  },
  {
   "cell_type": "markdown",
   "id": "a8d48f59-77e5-4139-86a4-ea399cc41adc",
   "metadata": {},
   "source": [
    "Distribution across all 256 binary strings:"
   ]
  },
  {
   "cell_type": "code",
   "execution_count": 2,
   "id": "d0cdc264-3e1f-40ca-84a0-b06e6b0fc43d",
   "metadata": {},
   "outputs": [],
   "source": [
    "import itertools\n",
    "\n",
    "def generate_permutations(bits):\n",
    "    return list(\"\".join(p) for p in itertools.product(\"01\", repeat=bits))\n",
    "\n",
    "permutations = generate_permutations(8)\n",
    "counts = { bitstring:0 for bitstring in permutations }"
   ]
  },
  {
   "cell_type": "code",
   "execution_count": 3,
   "id": "2a59d45c-acbb-43d6-8ffe-4df57823dcf0",
   "metadata": {},
   "outputs": [
    {
     "data": {
      "image/png": "[encoded data removed]",
      "text/plain": [
       "<Figure size 921.6x691.2 with 1 Axes>"
      ]
     },
     "metadata": {
      "needs_background": "light"
     },
     "output_type": "display_data"
    }
   ],
   "source": [
    "def combine_row_columns(df):\n",
    "    return [\"\".join(row.astype(str)) for _, row in df.iterrows()]\n",
    "\n",
    "combined_rows = combine_row_columns(df)\n",
    "\n",
    "for row in combined_rows:\n",
    "    counts[row] = 1\n",
    "    \n",
    "ax = sns.histplot(x=counts.keys(), y=counts.values())\n",
    "ax.set(xlabel='feature combinations, ordered by permutation', ylabel='combination is present or not')\n",
    "plt.show()"
   ]
  },
  {
   "cell_type": "markdown",
   "id": "d763ec88-ddf0-4711-be39-47c5ffe7758a",
   "metadata": {},
   "source": [
    "Binary distance between each letter / number"
   ]
  },
  {
   "cell_type": "code",
   "execution_count": 4,
   "id": "05d77114-385a-4fbf-aae3-6137db6005ec",
   "metadata": {},
   "outputs": [],
   "source": [
    "def binary_distance(a, b):\n",
    "    return np.sum(a != b)\n",
    "\n",
    "def calculate_distance_matrix(df):\n",
    "    distance_matrix = np.zeros((len(df), len(df)))\n",
    "    for i in range(len(df)):\n",
    "        for j in range(i + 1, len(df)):\n",
    "            distance = binary_distance(df.iloc[i], df.iloc[j])\n",
    "            distance_matrix[i, j] = distance\n",
    "            distance_matrix[j, i] = distance\n",
    "    return distance_matrix\n",
    "\n",
    "distance_matrix = calculate_distance_matrix(df)"
   ]
  },
  {
   "cell_type": "code",
   "execution_count": 5,
   "id": "0619555b-0817-4f9b-8d5d-d940786df1e7",
   "metadata": {},
   "outputs": [
    {
     "name": "stderr",
     "output_type": "stream",
     "text": [
      "/Users/suibhneofoighil/opt/anaconda3/lib/python3.9/site-packages/sklearn/manifold/_mds.py:299: FutureWarning: The default value of `normalized_stress` will change to `'auto'` in version 1.4. To suppress this warning, manually set the value of `normalized_stress`.\n",
      "  warnings.warn(\n"
     ]
    },
    {
     "data": {
      "image/png": "[encoded data removed]",
      "text/plain": [
       "<Figure size 921.6x691.2 with 1 Axes>"
      ]
     },
     "metadata": {
      "needs_background": "light"
     },
     "output_type": "display_data"
    }
   ],
   "source": [
    "from sklearn.manifold import MDS\n",
    "\n",
    "def visualize_distance_matrix(distance_matrix, labels=None):\n",
    "    mds = MDS(n_components=2, dissimilarity='precomputed')\n",
    "    mds_coordinates = mds.fit_transform(distance_matrix)\n",
    "    x = mds_coordinates[:, 0]\n",
    "    y = mds_coordinates[:, 1]\n",
    "    plt.scatter(x, y)\n",
    "    if labels is not None:\n",
    "        for i, label in enumerate(labels):\n",
    "            plt.annotate(label, (x[i], y[i]))\n",
    "    plt.show()\n",
    "\n",
    "labels = df.index\n",
    "\n",
    "visualize_distance_matrix(distance_matrix, labels)"
   ]
  },
  {
   "cell_type": "code",
   "execution_count": 6,
   "id": "36c9517e-dcc9-420f-a730-891c1eab9dc1",
   "metadata": {},
   "outputs": [
    {
     "name": "stdout",
     "output_type": "stream",
     "text": [
      "zero distance combinations: [('C', 'N'), ('C', 'c'), ('C', '3'), ('I', 'l'), ('J', 'h'), ('J', '5'), ('L', '7'), ('M', 'U'), ('M', 'V'), ('M', 'W'), ('M', 'i'), ('M', 'v'), ('M', 'w'), ('N', 'c'), ('N', '3'), ('O', 'o'), ('P', 'p'), ('P', '2'), ('Q', 'a'), ('Q', 'e'), ('R', 'j'), ('S', 'r'), ('U', 'V'), ('U', 'W'), ('U', 'i'), ('U', 'v'), ('U', 'w'), ('V', 'W'), ('V', 'i'), ('V', 'v'), ('V', 'w'), ('W', 'i'), ('W', 'v'), ('W', 'w'), ('a', 'e'), ('b', 'y'), ('c', '3'), ('d', '6'), ('f', 't'), ('h', '5'), ('i', 'v'), ('i', 'w'), ('p', '2'), ('v', 'w')]\n"
     ]
    }
   ],
   "source": [
    "combinations = np.where(distance_matrix == 0)\n",
    "combinations = list(zip(*combinations))\n",
    "combinations = [ (labels[row], labels[col]) for row, col in combinations if row != col]\n",
    "\n",
    "def remove_reverse_pairs(pairs):\n",
    "    deduped_pairs = []\n",
    "    for pair in pairs:\n",
    "        if (pair[1], pair[0]) not in deduped_pairs:\n",
    "            deduped_pairs.append(pair)\n",
    "    return deduped_pairs\n",
    "\n",
    "combinations = remove_reverse_pairs(combinations)\n",
    "\n",
    "print('zero distance combinations:', combinations)"
   ]
  },
  {
   "cell_type": "markdown",
   "id": "f79f21b7-e405-431e-b645-815540a9e57d",
   "metadata": {},
   "source": [
    "Find minimal distance for each letter / number to neighbor"
   ]
  },
  {
   "cell_type": "code",
   "execution_count": 7,
   "id": "884d45eb-0326-4ac0-9c62-cf02180b9dc5",
   "metadata": {},
   "outputs": [
    {
     "data": {
      "image/png": "[encoded data removed]",
      "text/plain": [
       "<Figure size 921.6x691.2 with 1 Axes>"
      ]
     },
     "metadata": {
      "needs_background": "light"
     },
     "output_type": "display_data"
    }
   ],
   "source": [
    "np.fill_diagonal(distance_matrix, np.inf)\n",
    "minimum_distances = np.min(distance_matrix, axis=0)\n",
    "ax = sns.histplot(minimum_distances)\n",
    "ax.set(xlabel='Minimum Distance')\n",
    "plt.show()"
   ]
  },
  {
   "cell_type": "markdown",
   "id": "e13f3eac-1122-450d-bd8a-3dd883b2f53c",
   "metadata": {},
   "source": [
    "Find distances for each combination"
   ]
  },
  {
   "cell_type": "code",
   "execution_count": 8,
   "id": "53bc1fb1-7464-4874-ba6f-db9834a3b544",
   "metadata": {},
   "outputs": [
    {
     "data": {
      "image/png": "[encoded data removed]",
      "text/plain": [
       "<Figure size 921.6x691.2 with 1 Axes>"
      ]
     },
     "metadata": {
      "needs_background": "light"
     },
     "output_type": "display_data"
    }
   ],
   "source": [
    "triangular_indices = np.triu_indices(distance_matrix.shape[0], k=1)\n",
    "flat_upper_triangular = distance_matrix[triangular_indices]\n",
    "ax = sns.histplot(flat_upper_triangular, bins=range(int(np.min(flat_upper_triangular)), int(np.max(flat_upper_triangular) + 1)))\n",
    "ax.set(xlabel='Distances')\n",
    "plt.show()"
   ]
  }
 ],
 "metadata": {
  "kernelspec": {
   "display_name": "Python 3",
   "language": "python",
   "name": "python3"
  },
  "language_info": {
   "codemirror_mode": {
    "name": "ipython",
    "version": 3
   },
   "file_extension": ".py",
   "mimetype": "text/x-python",
   "name": "python",
   "nbconvert_exporter": "python",
   "pygments_lexer": "ipython3",
   "version": "3.9.7"
  }
 },
 "nbformat": 4,
 "nbformat_minor": 5
}
