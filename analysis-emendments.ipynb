{
 "cells": [
  {
   "cell_type": "markdown",
   "id": "0642a801-a865-49de-aaca-b5fe3bd0840a",
   "metadata": {},
   "source": [
    "A couple of emendents:\n",
    "\n",
    "Do a separate analysis for \n",
    "1. lower case letters and numbers\n",
    "2. upper case letters and numbers\n",
    "\n",
    "including the distance graph and the distribution of distances.\n",
    "\n",
    "Then for each - do the pairs that are zero distance (hopefully that will be a LOT smaller)\n",
    "\n",
    "If we still have far too many that are the same distance, we may need to add a feature.\n",
    "\n",
    "Ideally, we will have < 12 pairs that are not distinguishable."
   ]
  },
  {
   "cell_type": "code",
   "execution_count": 1,
   "id": "f9c5ceb2-43ab-4100-94ba-d8f1b360fd3b",
   "metadata": {},
   "outputs": [
    {
     "data": {
      "text/html": [
       "<div>\n",
       "<style scoped>\n",
       "    .dataframe tbody tr th:only-of-type {\n",
       "        vertical-align: middle;\n",
       "    }\n",
       "\n",
       "    .dataframe tbody tr th {\n",
       "        vertical-align: top;\n",
       "    }\n",
       "\n",
       "    .dataframe thead th {\n",
       "        text-align: right;\n",
       "    }\n",
       "</style>\n",
       "<table border=\"1\" class=\"dataframe\">\n",
       "  <thead>\n",
       "    <tr style=\"text-align: right;\">\n",
       "      <th></th>\n",
       "      <th>Stem</th>\n",
       "      <th>Tail</th>\n",
       "      <th>Shoulder</th>\n",
       "      <th>up Down Sym</th>\n",
       "      <th>Right Left</th>\n",
       "      <th>Cross  Bar</th>\n",
       "      <th>arm</th>\n",
       "      <th>Bowl</th>\n",
       "    </tr>\n",
       "  </thead>\n",
       "  <tbody>\n",
       "    <tr>\n",
       "      <th>A</th>\n",
       "      <td>0</td>\n",
       "      <td>0</td>\n",
       "      <td>0</td>\n",
       "      <td>0</td>\n",
       "      <td>1</td>\n",
       "      <td>1</td>\n",
       "      <td>0</td>\n",
       "      <td>0</td>\n",
       "    </tr>\n",
       "    <tr>\n",
       "      <th>B</th>\n",
       "      <td>0</td>\n",
       "      <td>0</td>\n",
       "      <td>1</td>\n",
       "      <td>1</td>\n",
       "      <td>1</td>\n",
       "      <td>1</td>\n",
       "      <td>0</td>\n",
       "      <td>1</td>\n",
       "    </tr>\n",
       "    <tr>\n",
       "      <th>C</th>\n",
       "      <td>0</td>\n",
       "      <td>0</td>\n",
       "      <td>0</td>\n",
       "      <td>1</td>\n",
       "      <td>0</td>\n",
       "      <td>0</td>\n",
       "      <td>0</td>\n",
       "      <td>0</td>\n",
       "    </tr>\n",
       "    <tr>\n",
       "      <th>D</th>\n",
       "      <td>0</td>\n",
       "      <td>0</td>\n",
       "      <td>0</td>\n",
       "      <td>1</td>\n",
       "      <td>0</td>\n",
       "      <td>0</td>\n",
       "      <td>0</td>\n",
       "      <td>1</td>\n",
       "    </tr>\n",
       "    <tr>\n",
       "      <th>E</th>\n",
       "      <td>1</td>\n",
       "      <td>0</td>\n",
       "      <td>0</td>\n",
       "      <td>1</td>\n",
       "      <td>0</td>\n",
       "      <td>0</td>\n",
       "      <td>0</td>\n",
       "      <td>0</td>\n",
       "    </tr>\n",
       "    <tr>\n",
       "      <th>...</th>\n",
       "      <td>...</td>\n",
       "      <td>...</td>\n",
       "      <td>...</td>\n",
       "      <td>...</td>\n",
       "      <td>...</td>\n",
       "      <td>...</td>\n",
       "      <td>...</td>\n",
       "      <td>...</td>\n",
       "    </tr>\n",
       "    <tr>\n",
       "      <th>5</th>\n",
       "      <td>1</td>\n",
       "      <td>0</td>\n",
       "      <td>1</td>\n",
       "      <td>0</td>\n",
       "      <td>0</td>\n",
       "      <td>0</td>\n",
       "      <td>0</td>\n",
       "      <td>0</td>\n",
       "    </tr>\n",
       "    <tr>\n",
       "      <th>6</th>\n",
       "      <td>1</td>\n",
       "      <td>0</td>\n",
       "      <td>1</td>\n",
       "      <td>0</td>\n",
       "      <td>0</td>\n",
       "      <td>0</td>\n",
       "      <td>0</td>\n",
       "      <td>1</td>\n",
       "    </tr>\n",
       "    <tr>\n",
       "      <th>7</th>\n",
       "      <td>1</td>\n",
       "      <td>0</td>\n",
       "      <td>0</td>\n",
       "      <td>0</td>\n",
       "      <td>0</td>\n",
       "      <td>0</td>\n",
       "      <td>1</td>\n",
       "      <td>0</td>\n",
       "    </tr>\n",
       "    <tr>\n",
       "      <th>8</th>\n",
       "      <td>0</td>\n",
       "      <td>0</td>\n",
       "      <td>0</td>\n",
       "      <td>1</td>\n",
       "      <td>0</td>\n",
       "      <td>0</td>\n",
       "      <td>1</td>\n",
       "      <td>1</td>\n",
       "    </tr>\n",
       "    <tr>\n",
       "      <th>9</th>\n",
       "      <td>0</td>\n",
       "      <td>1</td>\n",
       "      <td>0</td>\n",
       "      <td>0</td>\n",
       "      <td>0</td>\n",
       "      <td>0</td>\n",
       "      <td>1</td>\n",
       "      <td>1</td>\n",
       "    </tr>\n",
       "  </tbody>\n",
       "</table>\n",
       "<p>61 rows × 8 columns</p>\n",
       "</div>"
      ],
      "text/plain": [
       "    Stem  Tail  Shoulder  up Down Sym  Right Left  Cross  Bar  arm  Bowl \n",
       "A      0     0         0            0           1           1    0      0\n",
       "B      0     0         1            1           1           1    0      1\n",
       "C      0     0         0            1           0           0    0      0\n",
       "D      0     0         0            1           0           0    0      1\n",
       "E      1     0         0            1           0           0    0      0\n",
       "..   ...   ...       ...          ...         ...         ...  ...    ...\n",
       "5      1     0         1            0           0           0    0      0\n",
       "6      1     0         1            0           0           0    0      1\n",
       "7      1     0         0            0           0           0    1      0\n",
       "8      0     0         0            1           0           0    1      1\n",
       "9      0     1         0            0           0           0    1      1\n",
       "\n",
       "[61 rows x 8 columns]"
      ]
     },
     "execution_count": 1,
     "metadata": {},
     "output_type": "execute_result"
    }
   ],
   "source": [
    "import pandas as pd\n",
    "import numpy as np\n",
    "import seaborn as sns\n",
    "import matplotlib.pyplot as plt\n",
    "\n",
    "plt.rcParams['figure.figsize'] = [12.8, 9.6]\n",
    "\n",
    "df = pd.read_csv('Letters.csv', index_col=0)\n",
    "df"
   ]
  },
  {
   "cell_type": "code",
   "execution_count": 2,
   "id": "cc47b35a-dc41-4dbf-8e81-e6ba544d6917",
   "metadata": {},
   "outputs": [],
   "source": [
    "import string\n",
    "\n",
    "uppercase_letters = list(string.ascii_uppercase)\n",
    "lowercase_letters = list(string.ascii_lowercase)\n",
    "numbers = [ str(i) for i in range(1, 10) ] \n",
    "\n",
    "uppercase_and_numbers = uppercase_letters + numbers\n",
    "lowercase_and_numbers = lowercase_letters + numbers\n",
    "\n",
    "uppercase_DF = df.loc[uppercase_and_numbers]\n",
    "lowercase_DF = df.loc[lowercase_and_numbers]"
   ]
  },
  {
   "cell_type": "code",
   "execution_count": 3,
   "id": "7c2288b3-bcce-4d6c-a522-0d1403c03c0d",
   "metadata": {},
   "outputs": [],
   "source": [
    "def binary_distance(a, b):\n",
    "    return np.sum(a != b)\n",
    "\n",
    "def calculate_distance_matrix(df):\n",
    "    distance_matrix = np.zeros((len(df), len(df)))\n",
    "    for i in range(len(df)):\n",
    "        for j in range(i + 1, len(df)):\n",
    "            distance = binary_distance(df.iloc[i], df.iloc[j])\n",
    "            distance_matrix[i, j] = distance\n",
    "            distance_matrix[j, i] = distance\n",
    "    return distance_matrix\n",
    "\n",
    "uppercase_distance_matrix = calculate_distance_matrix(uppercase_DF)\n",
    "lowercase_distance_matrix = calculate_distance_matrix(lowercase_DF)"
   ]
  },
  {
   "cell_type": "code",
   "execution_count": 4,
   "id": "a0e6b1ea-27fa-40ef-8b57-3d098da2456d",
   "metadata": {},
   "outputs": [
    {
     "name": "stderr",
     "output_type": "stream",
     "text": [
      "/Users/suibhneofoighil/opt/anaconda3/lib/python3.9/site-packages/sklearn/manifold/_mds.py:299: FutureWarning: The default value of `normalized_stress` will change to `'auto'` in version 1.4. To suppress this warning, manually set the value of `normalized_stress`.\n",
      "  warnings.warn(\n"
     ]
    },
    {
     "data": {
      "image/png": "[encoded data removed]",
      "text/plain": [
       "<Figure size 921.6x691.2 with 1 Axes>"
      ]
     },
     "metadata": {
      "needs_background": "light"
     },
     "output_type": "display_data"
    },
    {
     "name": "stderr",
     "output_type": "stream",
     "text": [
      "/Users/suibhneofoighil/opt/anaconda3/lib/python3.9/site-packages/sklearn/manifold/_mds.py:299: FutureWarning: The default value of `normalized_stress` will change to `'auto'` in version 1.4. To suppress this warning, manually set the value of `normalized_stress`.\n",
      "  warnings.warn(\n"
     ]
    },
    {
     "data": {
      "image/png": "[encoded data removed]",
      "text/plain": [
       "<Figure size 921.6x691.2 with 1 Axes>"
      ]
     },
     "metadata": {
      "needs_background": "light"
     },
     "output_type": "display_data"
    }
   ],
   "source": [
    "from sklearn.manifold import MDS\n",
    "\n",
    "def visualize_distance_matrix(distance_matrix, labels=None):\n",
    "    mds = MDS(n_components=2, dissimilarity='precomputed')\n",
    "    mds_coordinates = mds.fit_transform(distance_matrix)\n",
    "    x = mds_coordinates[:, 0]\n",
    "    y = mds_coordinates[:, 1]\n",
    "    plt.scatter(x, y)\n",
    "    if labels is not None:\n",
    "        for i, label in enumerate(labels):\n",
    "            plt.annotate(label, (x[i], y[i]), fontsize=15)\n",
    "    plt.show()\n",
    "\n",
    "uppercase_labels = uppercase_DF.index\n",
    "visualize_distance_matrix(uppercase_distance_matrix, uppercase_labels)\n",
    "\n",
    "lowercase_labels = lowercase_DF.index\n",
    "visualize_distance_matrix(lowercase_distance_matrix, lowercase_labels)"
   ]
  },
  {
   "cell_type": "code",
   "execution_count": 5,
   "id": "469537fd-0d7a-4552-9e4b-164465e0a35c",
   "metadata": {},
   "outputs": [
    {
     "name": "stdout",
     "output_type": "stream",
     "text": [
      "Uppercase zero distance combinations:\n"
     ]
    },
    {
     "data": {
      "text/plain": [
       "[('C', 'N'),\n",
       " ('C', '3'),\n",
       " ('J', '5'),\n",
       " ('L', '7'),\n",
       " ('M', 'U'),\n",
       " ('M', 'V'),\n",
       " ('M', 'W'),\n",
       " ('N', '3'),\n",
       " ('P', '2'),\n",
       " ('U', 'V'),\n",
       " ('U', 'W'),\n",
       " ('V', 'W')]"
      ]
     },
     "execution_count": 5,
     "metadata": {},
     "output_type": "execute_result"
    }
   ],
   "source": [
    "uppercase_combinations = np.where(uppercase_distance_matrix== 0)\n",
    "uppercase_combinations = list(zip(*uppercase_combinations))\n",
    "uppercase_combinations = [ (uppercase_labels[row], uppercase_labels[col]) for row, col in uppercase_combinations if row != col]\n",
    "\n",
    "def remove_reverse_pairs(pairs):\n",
    "    deduped_pairs = []\n",
    "    for pair in pairs:\n",
    "        if (pair[1], pair[0]) not in deduped_pairs:\n",
    "            deduped_pairs.append(pair)\n",
    "    return deduped_pairs\n",
    "\n",
    "uppercase_combinations = remove_reverse_pairs(uppercase_combinations)\n",
    "\n",
    "print('Uppercase zero distance combinations:')\n",
    "uppercase_combinations"
   ]
  },
  {
   "cell_type": "code",
   "execution_count": 6,
   "id": "5d6985b9-3f9b-41bb-9598-b39737839387",
   "metadata": {},
   "outputs": [
    {
     "name": "stdout",
     "output_type": "stream",
     "text": [
      "Lowercase zero distance combinations:\n"
     ]
    },
    {
     "data": {
      "text/plain": [
       "[('a', 'e'),\n",
       " ('b', 'y'),\n",
       " ('c', '3'),\n",
       " ('d', '6'),\n",
       " ('f', 't'),\n",
       " ('h', '5'),\n",
       " ('i', 'v'),\n",
       " ('i', 'w'),\n",
       " ('p', '2'),\n",
       " ('v', 'w')]"
      ]
     },
     "execution_count": 6,
     "metadata": {},
     "output_type": "execute_result"
    }
   ],
   "source": [
    "lowercase_combinations = np.where(lowercase_distance_matrix == 0)\n",
    "lowercase_combinations = list(zip(*lowercase_combinations))\n",
    "lowercase_combinations = [ (lowercase_labels[row], lowercase_labels[col]) for row, col in lowercase_combinations if row != col]\n",
    "lowercase_combinations = remove_reverse_pairs(lowercase_combinations)\n",
    "print('Lowercase zero distance combinations:')\n",
    "lowercase_combinations"
   ]
  },
  {
   "cell_type": "code",
   "execution_count": 7,
   "id": "f1198f60-781d-4313-bd3e-0c360cd7fae0",
   "metadata": {},
   "outputs": [
    {
     "data": {
      "image/png": "[encoded data removed]",
      "text/plain": [
       "<Figure size 921.6x691.2 with 1 Axes>"
      ]
     },
     "metadata": {
      "needs_background": "light"
     },
     "output_type": "display_data"
    }
   ],
   "source": [
    "triangular_indices = np.triu_indices(uppercase_distance_matrix.shape[0], k=1)\n",
    "flat_upper_triangular = uppercase_distance_matrix[triangular_indices]\n",
    "ax = sns.histplot(flat_upper_triangular, bins=range(int(np.min(flat_upper_triangular)), int(np.max(flat_upper_triangular) + 1)))\n",
    "ax.set(xlabel='Distances', title='Uppercase and Numbers - Distribution of Distances')\n",
    "plt.show()"
   ]
  },
  {
   "cell_type": "code",
   "execution_count": 8,
   "id": "90baee13-2c60-4530-afde-f9b6f073f053",
   "metadata": {},
   "outputs": [
    {
     "data": {
      "image/png": "[encoded data removed]",
      "text/plain": [
       "<Figure size 921.6x691.2 with 1 Axes>"
      ]
     },
     "metadata": {
      "needs_background": "light"
     },
     "output_type": "display_data"
    }
   ],
   "source": [
    "triangular_indices = np.triu_indices(lowercase_distance_matrix.shape[0], k=1)\n",
    "flat_upper_triangular = lowercase_distance_matrix[triangular_indices]\n",
    "ax = sns.histplot(flat_upper_triangular, bins=range(int(np.min(flat_upper_triangular)), int(np.max(flat_upper_triangular) + 1)))\n",
    "ax.set(xlabel='Distances', title='Lowercase and Numbers - Distribution of Distances')\n",
    "plt.show()"
   ]
  },
  {
   "cell_type": "code",
   "execution_count": 9,
   "id": "75ded544-2c7a-4111-8540-d461e6cf0a34",
   "metadata": {},
   "outputs": [
    {
     "data": {
      "image/png": "[encoded data removed]",
      "text/plain": [
       "<Figure size 921.6x691.2 with 1 Axes>"
      ]
     },
     "metadata": {
      "needs_background": "light"
     },
     "output_type": "display_data"
    }
   ],
   "source": [
    "np.fill_diagonal(uppercase_distance_matrix, -1)\n",
    "max_distance_LNs = []\n",
    "for row in uppercase_distance_matrix:\n",
    "    max_distance_LNs = max_distance_LNs + list(uppercase_DF.index[np.flatnonzero(row == np.max(row))])\n",
    "\n",
    "ax = sns.histplot(max_distance_LNs)\n",
    "ax.set(title='Uppercase - Most Different Letter / Number for each Letter / Number')\n",
    "plt.show()"
   ]
  },
  {
   "cell_type": "code",
   "execution_count": null,
   "id": "1cd44d23-07c0-42f2-a3a5-eb2158de567e",
   "metadata": {},
   "outputs": [],
   "source": [
    "np.fill_diagonal(lowercase_distance_matrix, -1)\n",
    "max_distance_LNs = []\n",
    "for row in lowercase_distance_matrix:\n",
    "    max_distance_LNs = max_distance_LNs + list(lowercase_DF.index[np.flatnonzero(row == np.max(row))])\n",
    "\n",
    "ax = sns.histplot(max_distance_LNs)\n",
    "ax.set(title='Upcase - Most Different Letter / Number for each Letter / Number')\n",
    "plt.show()"
   ]
  }
 ],
 "metadata": {
  "kernelspec": {
   "display_name": "Python 3",
   "language": "python",
   "name": "python3"
  },
  "language_info": {
   "codemirror_mode": {
    "name": "ipython",
    "version": 3
   },
   "file_extension": ".py",
   "mimetype": "text/x-python",
   "name": "python",
   "nbconvert_exporter": "python",
   "pygments_lexer": "ipython3",
   "version": "3.9.7"
  }
 },
 "nbformat": 4,
 "nbformat_minor": 5
}
